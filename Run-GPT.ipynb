{
 "cells": [
  {
   "cell_type": "markdown",
   "id": "343869b7-0458-4a2c-b9c0-53ce00a77454",
   "metadata": {},
   "source": [
    "### Idea of this notebook\n",
    "\n",
    "- Start app from here\n",
    "- Use predictions to control app(s)\n",
    "\n",
    "### Workflow\n",
    "\n",
    "- Use Predictor class instance -> model for a test\n",
    "- Create an app here, reset it\n",
    "- Use total reward running variable\n",
    "- Use initial state and subsequent states to control"
   ]
  },
  {
   "cell_type": "code",
   "execution_count": null,
   "id": "199e8fd1-fba5-4772-b961-678f87ca1b04",
   "metadata": {
    "tags": []
   },
   "outputs": [],
   "source": [
    "from naturalnets.environments.i_environment import get_environment_class\n",
    "from naturalnets.tools.utils import rescale_values\n",
    "\n",
    "from tools.converter import Predictor"
   ]
  },
  {
   "cell_type": "code",
   "execution_count": null,
   "id": "6a8d2aee-6a6d-4c8d-884d-b66459b5a70d",
   "metadata": {
    "tags": []
   },
   "outputs": [],
   "source": [
    "env_config = {\n",
    "    \"type\": \"DummyApp\",\n",
    "    \"number_time_steps\": 100,\n",
    "    \"screen_width\": 400,\n",
    "    \"screen_height\": 400,\n",
    "    \"number_button_columns\": 5,\n",
    "    \"number_button_rows\": 5,\n",
    "    \"button_width\": 50,\n",
    "    \"button_height\": 30,\n",
    "    \"fixed_env_seed\": False,\n",
    "    \"force_consecutive_click_order\": False\n",
    "}"
   ]
  },
  {
   "cell_type": "code",
   "execution_count": null,
   "id": "8ef2b8f7-1876-4297-8f3a-f11459215dc6",
   "metadata": {
    "tags": []
   },
   "outputs": [],
   "source": [
    "env_class = get_environment_class(env_config[\"type\"])\n",
    "app = env_class(env_config)\n",
    "allowed_actions = [i for i in range(25)]"
   ]
  },
  {
   "cell_type": "code",
   "execution_count": null,
   "id": "b0b42ebc-4911-4f9b-a40c-baef34554c20",
   "metadata": {},
   "outputs": [],
   "source": [
    "# model_name = \"EleutherAI/gpt-j-6B\"  # General CausalLM\n",
    "# model_name = \"EleutherAI/gpt-neo-1.3B\"  # General CausalLM\n",
    "# model_name = \"google/flan-t5-base\"  # seq2seq instructional LM\n",
    "model_name = \"allenai/tk-instruct-3b-def\"  # seq2seq instructional LM\n",
    "\n",
    "predictor = Predictor(\n",
    "    model_name=model_name,\n",
    "    use_openai=False,\n",
    "    max_new_tokens=3,\n",
    "    num_return_sequences=5,\n",
    "    temperature=0.5,\n",
    "    do_sample=False\n",
    ")"
   ]
  },
  {
   "cell_type": "code",
   "execution_count": null,
   "id": "f224a625-6a0d-451d-a7ed-e50facc09b01",
   "metadata": {
    "tags": []
   },
   "outputs": [],
   "source": [
    "predictor = Predictor(\n",
    "    model_name=\"text-davinci-003\",\n",
    "    use_openai=True,\n",
    "    max_new_tokens=3,\n",
    "    num_return_sequences=1,\n",
    "    temperature=0.0,\n",
    "    do_sample=False\n",
    ")"
   ]
  },
  {
   "cell_type": "code",
   "execution_count": null,
   "id": "75c1573d-c048-4039-84d4-8ea546d54f82",
   "metadata": {
    "tags": []
   },
   "outputs": [],
   "source": [
    "def one_interaction(_app, _predictor, meta_info_id: int, print_prompt=False):\n",
    "    ob = _app.get_observation_dict()\n",
    "    \n",
    "    prompt = _predictor.convert_to_prompt(ob, meta_info_id=meta_info_id)\n",
    "    \n",
    "    if print_prompt:\n",
    "        print(prompt)\n",
    "        print(\"\\n\")\n",
    "    \n",
    "    possible_buttons = _predictor.predict(prompt)\n",
    "    \n",
    "    debug_output = f\"Possible buttons: {possible_buttons}. Selected: \"\n",
    "\n",
    "    for button in possible_buttons:\n",
    "        if button in allowed_actions and button not in ob[\"pressed buttons\"]:\n",
    "            _app.step_widget(button)\n",
    "            debug_output += f\"{button}\"\n",
    "            break\n",
    "\n",
    "    print(debug_output)"
   ]
  },
  {
   "cell_type": "code",
   "execution_count": null,
   "id": "cefb4da6-50d8-4c9c-9b62-7cd8dfc2b0a7",
   "metadata": {
    "tags": []
   },
   "outputs": [],
   "source": [
    "app.reset()\n",
    "\n",
    "for i in range(5):\n",
    "    print_prompt = False\n",
    "    if i == 0:\n",
    "        print_prompt = True\n",
    "        \n",
    "    one_interaction(app, predictor, meta_info_id=1, print_prompt=print_prompt)"
   ]
  }
 ],
 "metadata": {
  "kernelspec": {
   "display_name": "Python 3 (ipykernel)",
   "language": "python",
   "name": "python3"
  },
  "language_info": {
   "codemirror_mode": {
    "name": "ipython",
    "version": 3
   },
   "file_extension": ".py",
   "mimetype": "text/x-python",
   "name": "python",
   "nbconvert_exporter": "python",
   "pygments_lexer": "ipython3",
   "version": "3.8.16"
  }
 },
 "nbformat": 4,
 "nbformat_minor": 5
}
